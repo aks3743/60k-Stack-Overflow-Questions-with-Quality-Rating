{
  "cells": [
    {
      "cell_type": "markdown",
      "source": [
        "# Group - 189 DL Assignment-1 (Q1)\n",
        "* Abhijith K.S         -  2020fc04193\n",
        "* Keesari Shravya      -  2020fc04582\n",
        "* Pranesh V            -  2020fc04961\n"
      ],
      "metadata": {
        "id": "MBBqkb9Eobxf"
      }
    },
    {
      "cell_type": "markdown",
      "metadata": {
        "id": "75nRdORaFHEl"
      },
      "source": [
        "# Import Libraries/Dataset (0 mark)"
      ]
    },
    {
      "cell_type": "markdown",
      "metadata": {
        "id": "XAwv6hUVCLmW"
      },
      "source": [
        "1. Import the required libraries and the dataset (use Google Drive if required).\n",
        "2. Check the GPU available (recommended- use free GPU provided by Google Colab).\n",
        "\n"
      ]
    },
    {
      "cell_type": "code",
      "execution_count": 1,
      "metadata": {
        "id": "hpiUi_D_FO_M"
      },
      "outputs": [],
      "source": [
        "import tensorflow as tf\n",
        "import tensorflow_hub as hub\n",
        "import pandas as pd\n",
        "from google.colab import data_table\n",
        "from google.colab import files\n",
        "import seaborn as sns\n",
        "import matplotlib.pyplot as plt\n",
        "from tensorflow.keras.layers import Dropout\n",
        "\n",
        "from sklearn.metrics import classification_report, confusion_matrix"
      ]
    },
    {
      "cell_type": "code",
      "execution_count": 2,
      "metadata": {
        "colab": {
          "base_uri": "https://localhost:8080/"
        },
        "id": "qXq1CEg6Lo1k",
        "outputId": "b2798d9c-f80c-428b-aac0-286d5f7b22dd"
      },
      "outputs": [
        {
          "output_type": "stream",
          "name": "stdout",
          "text": [
            "GPU is available\n"
          ]
        }
      ],
      "source": [
        "print(\"GPU is\", \"available\" if tf.config.experimental.list_physical_devices(\"GPU\") else \"NOT AVAILABLE\")"
      ]
    },
    {
      "cell_type": "markdown",
      "source": [
        "## Installing kaggle package to dowload the dataset from Kaggle directly"
      ],
      "metadata": {
        "id": "0VqGp2kA86nE"
      }
    },
    {
      "cell_type": "code",
      "execution_count": 3,
      "metadata": {
        "colab": {
          "base_uri": "https://localhost:8080/",
          "height": 91,
          "resources": {
            "http://localhost:8080/nbextensions/google.colab/files.js": {
              "data": "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",
              "headers": [
                [
                  "content-type",
                  "application/javascript"
                ]
              ],
              "ok": true,
              "status": 200,
              "status_text": ""
            }
          }
        },
        "id": "-sJouzAp75Bh",
        "outputId": "4f48e3f2-ee4b-449a-fccf-984a9abf07fa"
      },
      "outputs": [
        {
          "output_type": "display_data",
          "data": {
            "text/plain": [
              "<IPython.core.display.HTML object>"
            ],
            "text/html": [
              "\n",
              "     <input type=\"file\" id=\"files-3ca79c9e-14ae-4d51-b4af-88dc9b44ced4\" name=\"files[]\" multiple disabled\n",
              "        style=\"border:none\" />\n",
              "     <output id=\"result-3ca79c9e-14ae-4d51-b4af-88dc9b44ced4\">\n",
              "      Upload widget is only available when the cell has been executed in the\n",
              "      current browser session. Please rerun this cell to enable.\n",
              "      </output>\n",
              "      <script src=\"/nbextensions/google.colab/files.js\"></script> "
            ]
          },
          "metadata": {}
        },
        {
          "output_type": "stream",
          "name": "stdout",
          "text": [
            "Saving kaggle.json to kaggle.json\n"
          ]
        },
        {
          "output_type": "execute_result",
          "data": {
            "text/plain": [
              "{'kaggle.json': b'{\"username\":\"aks3743\",\"key\":\"ff0685a90da06d5745d86da9be9fbc8a\"}'}"
            ]
          },
          "metadata": {},
          "execution_count": 3
        }
      ],
      "source": [
        "! pip install -q kaggle\n",
        "\n",
        "#upload the kaggle.json file for credentials \n",
        "files.upload()"
      ]
    },
    {
      "cell_type": "markdown",
      "source": [
        "Creating a directory for kaggle and fetches the \"imoore 60k-stack-overflow-questions-with-quality-rate\" dataset directly from kaggle"
      ],
      "metadata": {
        "id": "9h6ii-fg9Kb9"
      }
    },
    {
      "cell_type": "code",
      "execution_count": 4,
      "metadata": {
        "colab": {
          "base_uri": "https://localhost:8080/"
        },
        "id": "zPlLmFGs4Oxw",
        "outputId": "806acc6d-920e-454f-d9d8-e959d59d5933"
      },
      "outputs": [
        {
          "output_type": "stream",
          "name": "stdout",
          "text": [
            "rm: cannot remove '/root/.kaggle': No such file or directory\n",
            "Downloading 60k-stack-overflow-questions-with-quality-rate.zip to /content\n",
            " 24% 5.00M/21.0M [00:00<00:00, 47.7MB/s]\n",
            "100% 21.0M/21.0M [00:00<00:00, 129MB/s] \n",
            "Archive:  60k-stack-overflow-questions-with-quality-rate.zip\n",
            "  inflating: data/train.csv          \n",
            "  inflating: data/valid.csv          \n"
          ]
        }
      ],
      "source": [
        "!rm -r ~/.kaggle\n",
        "!mkdir ~/.kaggle\n",
        "!mv ./kaggle.json ~/.kaggle/\n",
        "!chmod 600 ~/.kaggle/kaggle.json\n",
        "\n",
        "# download the dataset\n",
        "!kaggle datasets download -d imoore/60k-stack-overflow-questions-with-quality-rate\n",
        "\n",
        "# create a floder \"data\" in the current directory\n",
        "! mkdir data\n",
        "\n",
        "# unzip the dataset into the folder data\n",
        "! unzip 60k-stack-overflow-questions-with-quality-rate.zip -d data"
      ]
    },
    {
      "cell_type": "markdown",
      "source": [
        "# Data Visualization (0.75 mark)\n",
        "1. Print at least two records from each class of the dataset, for a sanity check that labels match the text.\n",
        "2. Plot a bar graph of class distribution in the dataset. Each bar depicts the number of records belonging to a particular class in the dataset. (recommended - matplotlib/seaborn libraries)\n",
        "3. Any other visualizations that seem appropriate for this problem are encouraged but not necessary, for the points.\n",
        "4. Print the shapes of train and test data.\n",
        "\n",
        "\n",
        "\n",
        "\n"
      ],
      "metadata": {
        "id": "Qr8mCUVt-lMk"
      }
    },
    {
      "cell_type": "code",
      "execution_count": 5,
      "metadata": {
        "id": "fPA39_a643v6"
      },
      "outputs": [],
      "source": [
        "# loading the train and validation data into pandas dataframes\n",
        "train_data=pd.read_csv(\"./data/train.csv\")\n",
        "val_data=pd.read_csv(\"./data/valid.csv\")"
      ]
    },
    {
      "cell_type": "code",
      "execution_count": 6,
      "metadata": {
        "colab": {
          "base_uri": "https://localhost:8080/"
        },
        "id": "iQ6ItZUg89mm",
        "outputId": "d714174a-f74b-45c5-9c8d-4a649b7b8bfa"
      },
      "outputs": [
        {
          "output_type": "stream",
          "name": "stdout",
          "text": [
            "Classes in the train dataset :  ['LQ_CLOSE' 'HQ' 'LQ_EDIT']\n",
            "Classes in the valid dataset :  ['LQ_EDIT' 'HQ' 'LQ_CLOSE']\n"
          ]
        }
      ],
      "source": [
        "print(\"Classes in the train dataset : \",train_data.Y.unique())\n",
        "print(\"Classes in the valid dataset : \",val_data.Y.unique())"
      ]
    },
    {
      "cell_type": "code",
      "source": [
        "train_data.query('Y==\"LQ_CLOSE\"').sample(2)"
      ],
      "metadata": {
        "colab": {
          "base_uri": "https://localhost:8080/",
          "height": 112
        },
        "id": "WyTnu2zEB5ob",
        "outputId": "e591547e-de20-4c51-fedd-0af7cd6a5f5f"
      },
      "execution_count": 7,
      "outputs": [
        {
          "output_type": "execute_result",
          "data": {
            "text/plain": [
              "             Id                                              Title  \\\n",
              "43879  59289471  How to display programmable exactly what time?...   \n",
              "39506  55443797  Why do the following comparisons give differen...   \n",
              "\n",
              "                                                    Body              Tags  \\\n",
              "43879  <p>It is necessary to create an analog clock.H...  <android-studio>   \n",
              "39506  <p>I'm trying to compare the following two qua...        <c++><stl>   \n",
              "\n",
              "              CreationDate         Y  \n",
              "43879  2019-12-11 15:49:21  LQ_CLOSE  \n",
              "39506  2019-03-31 17:56:15  LQ_CLOSE  "
            ],
            "text/html": [
              "\n",
              "  <div id=\"df-d44a5d0c-6ff7-4066-9752-361c393c314d\">\n",
              "    <div class=\"colab-df-container\">\n",
              "      <div>\n",
              "<style scoped>\n",
              "    .dataframe tbody tr th:only-of-type {\n",
              "        vertical-align: middle;\n",
              "    }\n",
              "\n",
              "    .dataframe tbody tr th {\n",
              "        vertical-align: top;\n",
              "    }\n",
              "\n",
              "    .dataframe thead th {\n",
              "        text-align: right;\n",
              "    }\n",
              "</style>\n",
              "<table border=\"1\" class=\"dataframe\">\n",
              "  <thead>\n",
              "    <tr style=\"text-align: right;\">\n",
              "      <th></th>\n",
              "      <th>Id</th>\n",
              "      <th>Title</th>\n",
              "      <th>Body</th>\n",
              "      <th>Tags</th>\n",
              "      <th>CreationDate</th>\n",
              "      <th>Y</th>\n",
              "    </tr>\n",
              "  </thead>\n",
              "  <tbody>\n",
              "    <tr>\n",
              "      <th>43879</th>\n",
              "      <td>59289471</td>\n",
              "      <td>How to display programmable exactly what time?...</td>\n",
              "      <td>&lt;p&gt;It is necessary to create an analog clock.H...</td>\n",
              "      <td>&lt;android-studio&gt;</td>\n",
              "      <td>2019-12-11 15:49:21</td>\n",
              "      <td>LQ_CLOSE</td>\n",
              "    </tr>\n",
              "    <tr>\n",
              "      <th>39506</th>\n",
              "      <td>55443797</td>\n",
              "      <td>Why do the following comparisons give differen...</td>\n",
              "      <td>&lt;p&gt;I'm trying to compare the following two qua...</td>\n",
              "      <td>&lt;c++&gt;&lt;stl&gt;</td>\n",
              "      <td>2019-03-31 17:56:15</td>\n",
              "      <td>LQ_CLOSE</td>\n",
              "    </tr>\n",
              "  </tbody>\n",
              "</table>\n",
              "</div>\n",
              "      <button class=\"colab-df-convert\" onclick=\"convertToInteractive('df-d44a5d0c-6ff7-4066-9752-361c393c314d')\"\n",
              "              title=\"Convert this dataframe to an interactive table.\"\n",
              "              style=\"display:none;\">\n",
              "        \n",
              "  <svg xmlns=\"http://www.w3.org/2000/svg\" height=\"24px\"viewBox=\"0 0 24 24\"\n",
              "       width=\"24px\">\n",
              "    <path d=\"M0 0h24v24H0V0z\" fill=\"none\"/>\n",
              "    <path d=\"M18.56 5.44l.94 2.06.94-2.06 2.06-.94-2.06-.94-.94-2.06-.94 2.06-2.06.94zm-11 1L8.5 8.5l.94-2.06 2.06-.94-2.06-.94L8.5 2.5l-.94 2.06-2.06.94zm10 10l.94 2.06.94-2.06 2.06-.94-2.06-.94-.94-2.06-.94 2.06-2.06.94z\"/><path d=\"M17.41 7.96l-1.37-1.37c-.4-.4-.92-.59-1.43-.59-.52 0-1.04.2-1.43.59L10.3 9.45l-7.72 7.72c-.78.78-.78 2.05 0 2.83L4 21.41c.39.39.9.59 1.41.59.51 0 1.02-.2 1.41-.59l7.78-7.78 2.81-2.81c.8-.78.8-2.07 0-2.86zM5.41 20L4 18.59l7.72-7.72 1.47 1.35L5.41 20z\"/>\n",
              "  </svg>\n",
              "      </button>\n",
              "      \n",
              "  <style>\n",
              "    .colab-df-container {\n",
              "      display:flex;\n",
              "      flex-wrap:wrap;\n",
              "      gap: 12px;\n",
              "    }\n",
              "\n",
              "    .colab-df-convert {\n",
              "      background-color: #E8F0FE;\n",
              "      border: none;\n",
              "      border-radius: 50%;\n",
              "      cursor: pointer;\n",
              "      display: none;\n",
              "      fill: #1967D2;\n",
              "      height: 32px;\n",
              "      padding: 0 0 0 0;\n",
              "      width: 32px;\n",
              "    }\n",
              "\n",
              "    .colab-df-convert:hover {\n",
              "      background-color: #E2EBFA;\n",
              "      box-shadow: 0px 1px 2px rgba(60, 64, 67, 0.3), 0px 1px 3px 1px rgba(60, 64, 67, 0.15);\n",
              "      fill: #174EA6;\n",
              "    }\n",
              "\n",
              "    [theme=dark] .colab-df-convert {\n",
              "      background-color: #3B4455;\n",
              "      fill: #D2E3FC;\n",
              "    }\n",
              "\n",
              "    [theme=dark] .colab-df-convert:hover {\n",
              "      background-color: #434B5C;\n",
              "      box-shadow: 0px 1px 3px 1px rgba(0, 0, 0, 0.15);\n",
              "      filter: drop-shadow(0px 1px 2px rgba(0, 0, 0, 0.3));\n",
              "      fill: #FFFFFF;\n",
              "    }\n",
              "  </style>\n",
              "\n",
              "      <script>\n",
              "        const buttonEl =\n",
              "          document.querySelector('#df-d44a5d0c-6ff7-4066-9752-361c393c314d button.colab-df-convert');\n",
              "        buttonEl.style.display =\n",
              "          google.colab.kernel.accessAllowed ? 'block' : 'none';\n",
              "\n",
              "        async function convertToInteractive(key) {\n",
              "          const element = document.querySelector('#df-d44a5d0c-6ff7-4066-9752-361c393c314d');\n",
              "          const dataTable =\n",
              "            await google.colab.kernel.invokeFunction('convertToInteractive',\n",
              "                                                     [key], {});\n",
              "          if (!dataTable) return;\n",
              "\n",
              "          const docLinkHtml = 'Like what you see? Visit the ' +\n",
              "            '<a target=\"_blank\" href=https://colab.research.google.com/notebooks/data_table.ipynb>data table notebook</a>'\n",
              "            + ' to learn more about interactive tables.';\n",
              "          element.innerHTML = '';\n",
              "          dataTable['output_type'] = 'display_data';\n",
              "          await google.colab.output.renderOutput(dataTable, element);\n",
              "          const docLink = document.createElement('div');\n",
              "          docLink.innerHTML = docLinkHtml;\n",
              "          element.appendChild(docLink);\n",
              "        }\n",
              "      </script>\n",
              "    </div>\n",
              "  </div>\n",
              "  "
            ]
          },
          "metadata": {},
          "execution_count": 7
        }
      ]
    },
    {
      "cell_type": "code",
      "source": [
        "train_data.query('Y==\"HQ\"').sample(2)"
      ],
      "metadata": {
        "colab": {
          "base_uri": "https://localhost:8080/",
          "height": 112
        },
        "id": "A1Kl_l-tEnNl",
        "outputId": "208c649d-6c93-467e-bba5-6b9b2644b480"
      },
      "execution_count": 8,
      "outputs": [
        {
          "output_type": "execute_result",
          "data": {
            "text/plain": [
              "             Id                                              Title  \\\n",
              "6047   37315317  What is the difference between @Inject and @In...   \n",
              "18658  43019832  Auto Versioning in Visual Studio 2017 (.NET Core)   \n",
              "\n",
              "                                                    Body  \\\n",
              "6047   <p>I don't understand When to use @Inject and ...   \n",
              "18658  <p>I have spent the better part of a few hours...   \n",
              "\n",
              "                                                    Tags         CreationDate  \\\n",
              "6047   <dependency-injection><typescript><angular><in...  2016-05-19 06:22:11   \n",
              "18658  <c#><visual-studio><.net-core><visual-studio-2...  2017-03-25 17:48:16   \n",
              "\n",
              "        Y  \n",
              "6047   HQ  \n",
              "18658  HQ  "
            ],
            "text/html": [
              "\n",
              "  <div id=\"df-b3b9f554-f323-4094-8be5-5f05b17f6248\">\n",
              "    <div class=\"colab-df-container\">\n",
              "      <div>\n",
              "<style scoped>\n",
              "    .dataframe tbody tr th:only-of-type {\n",
              "        vertical-align: middle;\n",
              "    }\n",
              "\n",
              "    .dataframe tbody tr th {\n",
              "        vertical-align: top;\n",
              "    }\n",
              "\n",
              "    .dataframe thead th {\n",
              "        text-align: right;\n",
              "    }\n",
              "</style>\n",
              "<table border=\"1\" class=\"dataframe\">\n",
              "  <thead>\n",
              "    <tr style=\"text-align: right;\">\n",
              "      <th></th>\n",
              "      <th>Id</th>\n",
              "      <th>Title</th>\n",
              "      <th>Body</th>\n",
              "      <th>Tags</th>\n",
              "      <th>CreationDate</th>\n",
              "      <th>Y</th>\n",
              "    </tr>\n",
              "  </thead>\n",
              "  <tbody>\n",
              "    <tr>\n",
              "      <th>6047</th>\n",
              "      <td>37315317</td>\n",
              "      <td>What is the difference between @Inject and @In...</td>\n",
              "      <td>&lt;p&gt;I don't understand When to use @Inject and ...</td>\n",
              "      <td>&lt;dependency-injection&gt;&lt;typescript&gt;&lt;angular&gt;&lt;in...</td>\n",
              "      <td>2016-05-19 06:22:11</td>\n",
              "      <td>HQ</td>\n",
              "    </tr>\n",
              "    <tr>\n",
              "      <th>18658</th>\n",
              "      <td>43019832</td>\n",
              "      <td>Auto Versioning in Visual Studio 2017 (.NET Core)</td>\n",
              "      <td>&lt;p&gt;I have spent the better part of a few hours...</td>\n",
              "      <td>&lt;c#&gt;&lt;visual-studio&gt;&lt;.net-core&gt;&lt;visual-studio-2...</td>\n",
              "      <td>2017-03-25 17:48:16</td>\n",
              "      <td>HQ</td>\n",
              "    </tr>\n",
              "  </tbody>\n",
              "</table>\n",
              "</div>\n",
              "      <button class=\"colab-df-convert\" onclick=\"convertToInteractive('df-b3b9f554-f323-4094-8be5-5f05b17f6248')\"\n",
              "              title=\"Convert this dataframe to an interactive table.\"\n",
              "              style=\"display:none;\">\n",
              "        \n",
              "  <svg xmlns=\"http://www.w3.org/2000/svg\" height=\"24px\"viewBox=\"0 0 24 24\"\n",
              "       width=\"24px\">\n",
              "    <path d=\"M0 0h24v24H0V0z\" fill=\"none\"/>\n",
              "    <path d=\"M18.56 5.44l.94 2.06.94-2.06 2.06-.94-2.06-.94-.94-2.06-.94 2.06-2.06.94zm-11 1L8.5 8.5l.94-2.06 2.06-.94-2.06-.94L8.5 2.5l-.94 2.06-2.06.94zm10 10l.94 2.06.94-2.06 2.06-.94-2.06-.94-.94-2.06-.94 2.06-2.06.94z\"/><path d=\"M17.41 7.96l-1.37-1.37c-.4-.4-.92-.59-1.43-.59-.52 0-1.04.2-1.43.59L10.3 9.45l-7.72 7.72c-.78.78-.78 2.05 0 2.83L4 21.41c.39.39.9.59 1.41.59.51 0 1.02-.2 1.41-.59l7.78-7.78 2.81-2.81c.8-.78.8-2.07 0-2.86zM5.41 20L4 18.59l7.72-7.72 1.47 1.35L5.41 20z\"/>\n",
              "  </svg>\n",
              "      </button>\n",
              "      \n",
              "  <style>\n",
              "    .colab-df-container {\n",
              "      display:flex;\n",
              "      flex-wrap:wrap;\n",
              "      gap: 12px;\n",
              "    }\n",
              "\n",
              "    .colab-df-convert {\n",
              "      background-color: #E8F0FE;\n",
              "      border: none;\n",
              "      border-radius: 50%;\n",
              "      cursor: pointer;\n",
              "      display: none;\n",
              "      fill: #1967D2;\n",
              "      height: 32px;\n",
              "      padding: 0 0 0 0;\n",
              "      width: 32px;\n",
              "    }\n",
              "\n",
              "    .colab-df-convert:hover {\n",
              "      background-color: #E2EBFA;\n",
              "      box-shadow: 0px 1px 2px rgba(60, 64, 67, 0.3), 0px 1px 3px 1px rgba(60, 64, 67, 0.15);\n",
              "      fill: #174EA6;\n",
              "    }\n",
              "\n",
              "    [theme=dark] .colab-df-convert {\n",
              "      background-color: #3B4455;\n",
              "      fill: #D2E3FC;\n",
              "    }\n",
              "\n",
              "    [theme=dark] .colab-df-convert:hover {\n",
              "      background-color: #434B5C;\n",
              "      box-shadow: 0px 1px 3px 1px rgba(0, 0, 0, 0.15);\n",
              "      filter: drop-shadow(0px 1px 2px rgba(0, 0, 0, 0.3));\n",
              "      fill: #FFFFFF;\n",
              "    }\n",
              "  </style>\n",
              "\n",
              "      <script>\n",
              "        const buttonEl =\n",
              "          document.querySelector('#df-b3b9f554-f323-4094-8be5-5f05b17f6248 button.colab-df-convert');\n",
              "        buttonEl.style.display =\n",
              "          google.colab.kernel.accessAllowed ? 'block' : 'none';\n",
              "\n",
              "        async function convertToInteractive(key) {\n",
              "          const element = document.querySelector('#df-b3b9f554-f323-4094-8be5-5f05b17f6248');\n",
              "          const dataTable =\n",
              "            await google.colab.kernel.invokeFunction('convertToInteractive',\n",
              "                                                     [key], {});\n",
              "          if (!dataTable) return;\n",
              "\n",
              "          const docLinkHtml = 'Like what you see? Visit the ' +\n",
              "            '<a target=\"_blank\" href=https://colab.research.google.com/notebooks/data_table.ipynb>data table notebook</a>'\n",
              "            + ' to learn more about interactive tables.';\n",
              "          element.innerHTML = '';\n",
              "          dataTable['output_type'] = 'display_data';\n",
              "          await google.colab.output.renderOutput(dataTable, element);\n",
              "          const docLink = document.createElement('div');\n",
              "          docLink.innerHTML = docLinkHtml;\n",
              "          element.appendChild(docLink);\n",
              "        }\n",
              "      </script>\n",
              "    </div>\n",
              "  </div>\n",
              "  "
            ]
          },
          "metadata": {},
          "execution_count": 8
        }
      ]
    },
    {
      "cell_type": "code",
      "source": [
        "train_data.query('Y==\"LQ_EDIT\"').sample(2)"
      ],
      "metadata": {
        "colab": {
          "base_uri": "https://localhost:8080/",
          "height": 156
        },
        "id": "TVtpv9VEEnvi",
        "outputId": "502fe97f-41e4-4f50-a14c-1a8d8cc49f9e"
      },
      "execution_count": 9,
      "outputs": [
        {
          "output_type": "execute_result",
          "data": {
            "text/plain": [
              "             Id                                              Title  \\\n",
              "30913  49713063  Camunda - Configurar Service task como externa...   \n",
              "14173  40948425              Cardview - edittext + image + buttons   \n",
              "\n",
              "                                                    Body  \\\n",
              "30913  **Camunda**\\r\\n\\r\\nComo configurar uma service...   \n",
              "14173  I have problem with **Cardview**. I want this ...   \n",
              "\n",
              "                                                    Tags         CreationDate  \\\n",
              "30913  <bpmn><business-process-management><camunda><c...  2018-04-07 23:44:32   \n",
              "14173                        <android><android-cardview>  2016-12-03 13:42:29   \n",
              "\n",
              "             Y  \n",
              "30913  LQ_EDIT  \n",
              "14173  LQ_EDIT  "
            ],
            "text/html": [
              "\n",
              "  <div id=\"df-134d184d-255e-4307-a6f3-4a1147a9a88c\">\n",
              "    <div class=\"colab-df-container\">\n",
              "      <div>\n",
              "<style scoped>\n",
              "    .dataframe tbody tr th:only-of-type {\n",
              "        vertical-align: middle;\n",
              "    }\n",
              "\n",
              "    .dataframe tbody tr th {\n",
              "        vertical-align: top;\n",
              "    }\n",
              "\n",
              "    .dataframe thead th {\n",
              "        text-align: right;\n",
              "    }\n",
              "</style>\n",
              "<table border=\"1\" class=\"dataframe\">\n",
              "  <thead>\n",
              "    <tr style=\"text-align: right;\">\n",
              "      <th></th>\n",
              "      <th>Id</th>\n",
              "      <th>Title</th>\n",
              "      <th>Body</th>\n",
              "      <th>Tags</th>\n",
              "      <th>CreationDate</th>\n",
              "      <th>Y</th>\n",
              "    </tr>\n",
              "  </thead>\n",
              "  <tbody>\n",
              "    <tr>\n",
              "      <th>30913</th>\n",
              "      <td>49713063</td>\n",
              "      <td>Camunda - Configurar Service task como externa...</td>\n",
              "      <td>**Camunda**\\r\\n\\r\\nComo configurar uma service...</td>\n",
              "      <td>&lt;bpmn&gt;&lt;business-process-management&gt;&lt;camunda&gt;&lt;c...</td>\n",
              "      <td>2018-04-07 23:44:32</td>\n",
              "      <td>LQ_EDIT</td>\n",
              "    </tr>\n",
              "    <tr>\n",
              "      <th>14173</th>\n",
              "      <td>40948425</td>\n",
              "      <td>Cardview - edittext + image + buttons</td>\n",
              "      <td>I have problem with **Cardview**. I want this ...</td>\n",
              "      <td>&lt;android&gt;&lt;android-cardview&gt;</td>\n",
              "      <td>2016-12-03 13:42:29</td>\n",
              "      <td>LQ_EDIT</td>\n",
              "    </tr>\n",
              "  </tbody>\n",
              "</table>\n",
              "</div>\n",
              "      <button class=\"colab-df-convert\" onclick=\"convertToInteractive('df-134d184d-255e-4307-a6f3-4a1147a9a88c')\"\n",
              "              title=\"Convert this dataframe to an interactive table.\"\n",
              "              style=\"display:none;\">\n",
              "        \n",
              "  <svg xmlns=\"http://www.w3.org/2000/svg\" height=\"24px\"viewBox=\"0 0 24 24\"\n",
              "       width=\"24px\">\n",
              "    <path d=\"M0 0h24v24H0V0z\" fill=\"none\"/>\n",
              "    <path d=\"M18.56 5.44l.94 2.06.94-2.06 2.06-.94-2.06-.94-.94-2.06-.94 2.06-2.06.94zm-11 1L8.5 8.5l.94-2.06 2.06-.94-2.06-.94L8.5 2.5l-.94 2.06-2.06.94zm10 10l.94 2.06.94-2.06 2.06-.94-2.06-.94-.94-2.06-.94 2.06-2.06.94z\"/><path d=\"M17.41 7.96l-1.37-1.37c-.4-.4-.92-.59-1.43-.59-.52 0-1.04.2-1.43.59L10.3 9.45l-7.72 7.72c-.78.78-.78 2.05 0 2.83L4 21.41c.39.39.9.59 1.41.59.51 0 1.02-.2 1.41-.59l7.78-7.78 2.81-2.81c.8-.78.8-2.07 0-2.86zM5.41 20L4 18.59l7.72-7.72 1.47 1.35L5.41 20z\"/>\n",
              "  </svg>\n",
              "      </button>\n",
              "      \n",
              "  <style>\n",
              "    .colab-df-container {\n",
              "      display:flex;\n",
              "      flex-wrap:wrap;\n",
              "      gap: 12px;\n",
              "    }\n",
              "\n",
              "    .colab-df-convert {\n",
              "      background-color: #E8F0FE;\n",
              "      border: none;\n",
              "      border-radius: 50%;\n",
              "      cursor: pointer;\n",
              "      display: none;\n",
              "      fill: #1967D2;\n",
              "      height: 32px;\n",
              "      padding: 0 0 0 0;\n",
              "      width: 32px;\n",
              "    }\n",
              "\n",
              "    .colab-df-convert:hover {\n",
              "      background-color: #E2EBFA;\n",
              "      box-shadow: 0px 1px 2px rgba(60, 64, 67, 0.3), 0px 1px 3px 1px rgba(60, 64, 67, 0.15);\n",
              "      fill: #174EA6;\n",
              "    }\n",
              "\n",
              "    [theme=dark] .colab-df-convert {\n",
              "      background-color: #3B4455;\n",
              "      fill: #D2E3FC;\n",
              "    }\n",
              "\n",
              "    [theme=dark] .colab-df-convert:hover {\n",
              "      background-color: #434B5C;\n",
              "      box-shadow: 0px 1px 3px 1px rgba(0, 0, 0, 0.15);\n",
              "      filter: drop-shadow(0px 1px 2px rgba(0, 0, 0, 0.3));\n",
              "      fill: #FFFFFF;\n",
              "    }\n",
              "  </style>\n",
              "\n",
              "      <script>\n",
              "        const buttonEl =\n",
              "          document.querySelector('#df-134d184d-255e-4307-a6f3-4a1147a9a88c button.colab-df-convert');\n",
              "        buttonEl.style.display =\n",
              "          google.colab.kernel.accessAllowed ? 'block' : 'none';\n",
              "\n",
              "        async function convertToInteractive(key) {\n",
              "          const element = document.querySelector('#df-134d184d-255e-4307-a6f3-4a1147a9a88c');\n",
              "          const dataTable =\n",
              "            await google.colab.kernel.invokeFunction('convertToInteractive',\n",
              "                                                     [key], {});\n",
              "          if (!dataTable) return;\n",
              "\n",
              "          const docLinkHtml = 'Like what you see? Visit the ' +\n",
              "            '<a target=\"_blank\" href=https://colab.research.google.com/notebooks/data_table.ipynb>data table notebook</a>'\n",
              "            + ' to learn more about interactive tables.';\n",
              "          element.innerHTML = '';\n",
              "          dataTable['output_type'] = 'display_data';\n",
              "          await google.colab.output.renderOutput(dataTable, element);\n",
              "          const docLink = document.createElement('div');\n",
              "          docLink.innerHTML = docLinkHtml;\n",
              "          element.appendChild(docLink);\n",
              "        }\n",
              "      </script>\n",
              "    </div>\n",
              "  </div>\n",
              "  "
            ]
          },
          "metadata": {},
          "execution_count": 9
        }
      ]
    },
    {
      "cell_type": "code",
      "execution_count": 10,
      "metadata": {
        "id": "jEWx45gG8yqy"
      },
      "outputs": [],
      "source": [
        "# printing the table using colab.data_tables (intracative)\n",
        "# data_table.DataTable(train_data, include_index=False, num_rows_per_page=5)"
      ]
    },
    {
      "cell_type": "code",
      "source": [
        "train_data.groupby('Y').count()"
      ],
      "metadata": {
        "colab": {
          "base_uri": "https://localhost:8080/",
          "height": 174
        },
        "id": "VPr_O1_DFrMp",
        "outputId": "56f29d51-f159-43ee-a4fc-355de5f71b68"
      },
      "execution_count": 11,
      "outputs": [
        {
          "output_type": "execute_result",
          "data": {
            "text/plain": [
              "             Id  Title   Body   Tags  CreationDate\n",
              "Y                                                 \n",
              "HQ        15000  15000  15000  15000         15000\n",
              "LQ_CLOSE  15000  15000  15000  15000         15000\n",
              "LQ_EDIT   15000  15000  15000  15000         15000"
            ],
            "text/html": [
              "\n",
              "  <div id=\"df-e9523220-dff2-4dbd-8495-7a30422b1684\">\n",
              "    <div class=\"colab-df-container\">\n",
              "      <div>\n",
              "<style scoped>\n",
              "    .dataframe tbody tr th:only-of-type {\n",
              "        vertical-align: middle;\n",
              "    }\n",
              "\n",
              "    .dataframe tbody tr th {\n",
              "        vertical-align: top;\n",
              "    }\n",
              "\n",
              "    .dataframe thead th {\n",
              "        text-align: right;\n",
              "    }\n",
              "</style>\n",
              "<table border=\"1\" class=\"dataframe\">\n",
              "  <thead>\n",
              "    <tr style=\"text-align: right;\">\n",
              "      <th></th>\n",
              "      <th>Id</th>\n",
              "      <th>Title</th>\n",
              "      <th>Body</th>\n",
              "      <th>Tags</th>\n",
              "      <th>CreationDate</th>\n",
              "    </tr>\n",
              "    <tr>\n",
              "      <th>Y</th>\n",
              "      <th></th>\n",
              "      <th></th>\n",
              "      <th></th>\n",
              "      <th></th>\n",
              "      <th></th>\n",
              "    </tr>\n",
              "  </thead>\n",
              "  <tbody>\n",
              "    <tr>\n",
              "      <th>HQ</th>\n",
              "      <td>15000</td>\n",
              "      <td>15000</td>\n",
              "      <td>15000</td>\n",
              "      <td>15000</td>\n",
              "      <td>15000</td>\n",
              "    </tr>\n",
              "    <tr>\n",
              "      <th>LQ_CLOSE</th>\n",
              "      <td>15000</td>\n",
              "      <td>15000</td>\n",
              "      <td>15000</td>\n",
              "      <td>15000</td>\n",
              "      <td>15000</td>\n",
              "    </tr>\n",
              "    <tr>\n",
              "      <th>LQ_EDIT</th>\n",
              "      <td>15000</td>\n",
              "      <td>15000</td>\n",
              "      <td>15000</td>\n",
              "      <td>15000</td>\n",
              "      <td>15000</td>\n",
              "    </tr>\n",
              "  </tbody>\n",
              "</table>\n",
              "</div>\n",
              "      <button class=\"colab-df-convert\" onclick=\"convertToInteractive('df-e9523220-dff2-4dbd-8495-7a30422b1684')\"\n",
              "              title=\"Convert this dataframe to an interactive table.\"\n",
              "              style=\"display:none;\">\n",
              "        \n",
              "  <svg xmlns=\"http://www.w3.org/2000/svg\" height=\"24px\"viewBox=\"0 0 24 24\"\n",
              "       width=\"24px\">\n",
              "    <path d=\"M0 0h24v24H0V0z\" fill=\"none\"/>\n",
              "    <path d=\"M18.56 5.44l.94 2.06.94-2.06 2.06-.94-2.06-.94-.94-2.06-.94 2.06-2.06.94zm-11 1L8.5 8.5l.94-2.06 2.06-.94-2.06-.94L8.5 2.5l-.94 2.06-2.06.94zm10 10l.94 2.06.94-2.06 2.06-.94-2.06-.94-.94-2.06-.94 2.06-2.06.94z\"/><path d=\"M17.41 7.96l-1.37-1.37c-.4-.4-.92-.59-1.43-.59-.52 0-1.04.2-1.43.59L10.3 9.45l-7.72 7.72c-.78.78-.78 2.05 0 2.83L4 21.41c.39.39.9.59 1.41.59.51 0 1.02-.2 1.41-.59l7.78-7.78 2.81-2.81c.8-.78.8-2.07 0-2.86zM5.41 20L4 18.59l7.72-7.72 1.47 1.35L5.41 20z\"/>\n",
              "  </svg>\n",
              "      </button>\n",
              "      \n",
              "  <style>\n",
              "    .colab-df-container {\n",
              "      display:flex;\n",
              "      flex-wrap:wrap;\n",
              "      gap: 12px;\n",
              "    }\n",
              "\n",
              "    .colab-df-convert {\n",
              "      background-color: #E8F0FE;\n",
              "      border: none;\n",
              "      border-radius: 50%;\n",
              "      cursor: pointer;\n",
              "      display: none;\n",
              "      fill: #1967D2;\n",
              "      height: 32px;\n",
              "      padding: 0 0 0 0;\n",
              "      width: 32px;\n",
              "    }\n",
              "\n",
              "    .colab-df-convert:hover {\n",
              "      background-color: #E2EBFA;\n",
              "      box-shadow: 0px 1px 2px rgba(60, 64, 67, 0.3), 0px 1px 3px 1px rgba(60, 64, 67, 0.15);\n",
              "      fill: #174EA6;\n",
              "    }\n",
              "\n",
              "    [theme=dark] .colab-df-convert {\n",
              "      background-color: #3B4455;\n",
              "      fill: #D2E3FC;\n",
              "    }\n",
              "\n",
              "    [theme=dark] .colab-df-convert:hover {\n",
              "      background-color: #434B5C;\n",
              "      box-shadow: 0px 1px 3px 1px rgba(0, 0, 0, 0.15);\n",
              "      filter: drop-shadow(0px 1px 2px rgba(0, 0, 0, 0.3));\n",
              "      fill: #FFFFFF;\n",
              "    }\n",
              "  </style>\n",
              "\n",
              "      <script>\n",
              "        const buttonEl =\n",
              "          document.querySelector('#df-e9523220-dff2-4dbd-8495-7a30422b1684 button.colab-df-convert');\n",
              "        buttonEl.style.display =\n",
              "          google.colab.kernel.accessAllowed ? 'block' : 'none';\n",
              "\n",
              "        async function convertToInteractive(key) {\n",
              "          const element = document.querySelector('#df-e9523220-dff2-4dbd-8495-7a30422b1684');\n",
              "          const dataTable =\n",
              "            await google.colab.kernel.invokeFunction('convertToInteractive',\n",
              "                                                     [key], {});\n",
              "          if (!dataTable) return;\n",
              "\n",
              "          const docLinkHtml = 'Like what you see? Visit the ' +\n",
              "            '<a target=\"_blank\" href=https://colab.research.google.com/notebooks/data_table.ipynb>data table notebook</a>'\n",
              "            + ' to learn more about interactive tables.';\n",
              "          element.innerHTML = '';\n",
              "          dataTable['output_type'] = 'display_data';\n",
              "          await google.colab.output.renderOutput(dataTable, element);\n",
              "          const docLink = document.createElement('div');\n",
              "          docLink.innerHTML = docLinkHtml;\n",
              "          element.appendChild(docLink);\n",
              "        }\n",
              "      </script>\n",
              "    </div>\n",
              "  </div>\n",
              "  "
            ]
          },
          "metadata": {},
          "execution_count": 11
        }
      ]
    },
    {
      "cell_type": "code",
      "execution_count": 12,
      "metadata": {
        "colab": {
          "base_uri": "https://localhost:8080/",
          "height": 296
        },
        "id": "4XpWhwMLDkkh",
        "outputId": "14d5323a-9868-48bf-c0e6-ea8ec539d7bf"
      },
      "outputs": [
        {
          "output_type": "display_data",
          "data": {
            "text/plain": [
              "<Figure size 432x288 with 1 Axes>"
            ],
            "image/png": "[encoded data removed]"
          },
          "metadata": {
            "needs_background": "light"
          }
        }
      ],
      "source": [
        "# Bar graph of class distribution in the dataset- train\n",
        "sns.countplot(x ='Y',  data = train_data)\n",
        "plt.title(\"Count plot for Train data\")\n",
        "# Show the plot\n",
        "plt.show()"
      ]
    },
    {
      "cell_type": "code",
      "source": [
        "val_data.groupby('Y').count()"
      ],
      "metadata": {
        "colab": {
          "base_uri": "https://localhost:8080/",
          "height": 174
        },
        "id": "dTy6hfGJFwV0",
        "outputId": "18aa5c4a-a42e-44d3-9df4-44df1706e59b"
      },
      "execution_count": 13,
      "outputs": [
        {
          "output_type": "execute_result",
          "data": {
            "text/plain": [
              "            Id  Title  Body  Tags  CreationDate\n",
              "Y                                              \n",
              "HQ        5000   5000  5000  5000          5000\n",
              "LQ_CLOSE  5000   5000  5000  5000          5000\n",
              "LQ_EDIT   5000   5000  5000  5000          5000"
            ],
            "text/html": [
              "\n",
              "  <div id=\"df-d33c5eb1-f137-423a-8734-8f28b06232c1\">\n",
              "    <div class=\"colab-df-container\">\n",
              "      <div>\n",
              "<style scoped>\n",
              "    .dataframe tbody tr th:only-of-type {\n",
              "        vertical-align: middle;\n",
              "    }\n",
              "\n",
              "    .dataframe tbody tr th {\n",
              "        vertical-align: top;\n",
              "    }\n",
              "\n",
              "    .dataframe thead th {\n",
              "        text-align: right;\n",
              "    }\n",
              "</style>\n",
              "<table border=\"1\" class=\"dataframe\">\n",
              "  <thead>\n",
              "    <tr style=\"text-align: right;\">\n",
              "      <th></th>\n",
              "      <th>Id</th>\n",
              "      <th>Title</th>\n",
              "      <th>Body</th>\n",
              "      <th>Tags</th>\n",
              "      <th>CreationDate</th>\n",
              "    </tr>\n",
              "    <tr>\n",
              "      <th>Y</th>\n",
              "      <th></th>\n",
              "      <th></th>\n",
              "      <th></th>\n",
              "      <th></th>\n",
              "      <th></th>\n",
              "    </tr>\n",
              "  </thead>\n",
              "  <tbody>\n",
              "    <tr>\n",
              "      <th>HQ</th>\n",
              "      <td>5000</td>\n",
              "      <td>5000</td>\n",
              "      <td>5000</td>\n",
              "      <td>5000</td>\n",
              "      <td>5000</td>\n",
              "    </tr>\n",
              "    <tr>\n",
              "      <th>LQ_CLOSE</th>\n",
              "      <td>5000</td>\n",
              "      <td>5000</td>\n",
              "      <td>5000</td>\n",
              "      <td>5000</td>\n",
              "      <td>5000</td>\n",
              "    </tr>\n",
              "    <tr>\n",
              "      <th>LQ_EDIT</th>\n",
              "      <td>5000</td>\n",
              "      <td>5000</td>\n",
              "      <td>5000</td>\n",
              "      <td>5000</td>\n",
              "      <td>5000</td>\n",
              "    </tr>\n",
              "  </tbody>\n",
              "</table>\n",
              "</div>\n",
              "      <button class=\"colab-df-convert\" onclick=\"convertToInteractive('df-d33c5eb1-f137-423a-8734-8f28b06232c1')\"\n",
              "              title=\"Convert this dataframe to an interactive table.\"\n",
              "              style=\"display:none;\">\n",
              "        \n",
              "  <svg xmlns=\"http://www.w3.org/2000/svg\" height=\"24px\"viewBox=\"0 0 24 24\"\n",
              "       width=\"24px\">\n",
              "    <path d=\"M0 0h24v24H0V0z\" fill=\"none\"/>\n",
              "    <path d=\"M18.56 5.44l.94 2.06.94-2.06 2.06-.94-2.06-.94-.94-2.06-.94 2.06-2.06.94zm-11 1L8.5 8.5l.94-2.06 2.06-.94-2.06-.94L8.5 2.5l-.94 2.06-2.06.94zm10 10l.94 2.06.94-2.06 2.06-.94-2.06-.94-.94-2.06-.94 2.06-2.06.94z\"/><path d=\"M17.41 7.96l-1.37-1.37c-.4-.4-.92-.59-1.43-.59-.52 0-1.04.2-1.43.59L10.3 9.45l-7.72 7.72c-.78.78-.78 2.05 0 2.83L4 21.41c.39.39.9.59 1.41.59.51 0 1.02-.2 1.41-.59l7.78-7.78 2.81-2.81c.8-.78.8-2.07 0-2.86zM5.41 20L4 18.59l7.72-7.72 1.47 1.35L5.41 20z\"/>\n",
              "  </svg>\n",
              "      </button>\n",
              "      \n",
              "  <style>\n",
              "    .colab-df-container {\n",
              "      display:flex;\n",
              "      flex-wrap:wrap;\n",
              "      gap: 12px;\n",
              "    }\n",
              "\n",
              "    .colab-df-convert {\n",
              "      background-color: #E8F0FE;\n",
              "      border: none;\n",
              "      border-radius: 50%;\n",
              "      cursor: pointer;\n",
              "      display: none;\n",
              "      fill: #1967D2;\n",
              "      height: 32px;\n",
              "      padding: 0 0 0 0;\n",
              "      width: 32px;\n",
              "    }\n",
              "\n",
              "    .colab-df-convert:hover {\n",
              "      background-color: #E2EBFA;\n",
              "      box-shadow: 0px 1px 2px rgba(60, 64, 67, 0.3), 0px 1px 3px 1px rgba(60, 64, 67, 0.15);\n",
              "      fill: #174EA6;\n",
              "    }\n",
              "\n",
              "    [theme=dark] .colab-df-convert {\n",
              "      background-color: #3B4455;\n",
              "      fill: #D2E3FC;\n",
              "    }\n",
              "\n",
              "    [theme=dark] .colab-df-convert:hover {\n",
              "      background-color: #434B5C;\n",
              "      box-shadow: 0px 1px 3px 1px rgba(0, 0, 0, 0.15);\n",
              "      filter: drop-shadow(0px 1px 2px rgba(0, 0, 0, 0.3));\n",
              "      fill: #FFFFFF;\n",
              "    }\n",
              "  </style>\n",
              "\n",
              "      <script>\n",
              "        const buttonEl =\n",
              "          document.querySelector('#df-d33c5eb1-f137-423a-8734-8f28b06232c1 button.colab-df-convert');\n",
              "        buttonEl.style.display =\n",
              "          google.colab.kernel.accessAllowed ? 'block' : 'none';\n",
              "\n",
              "        async function convertToInteractive(key) {\n",
              "          const element = document.querySelector('#df-d33c5eb1-f137-423a-8734-8f28b06232c1');\n",
              "          const dataTable =\n",
              "            await google.colab.kernel.invokeFunction('convertToInteractive',\n",
              "                                                     [key], {});\n",
              "          if (!dataTable) return;\n",
              "\n",
              "          const docLinkHtml = 'Like what you see? Visit the ' +\n",
              "            '<a target=\"_blank\" href=https://colab.research.google.com/notebooks/data_table.ipynb>data table notebook</a>'\n",
              "            + ' to learn more about interactive tables.';\n",
              "          element.innerHTML = '';\n",
              "          dataTable['output_type'] = 'display_data';\n",
              "          await google.colab.output.renderOutput(dataTable, element);\n",
              "          const docLink = document.createElement('div');\n",
              "          docLink.innerHTML = docLinkHtml;\n",
              "          element.appendChild(docLink);\n",
              "        }\n",
              "      </script>\n",
              "    </div>\n",
              "  </div>\n",
              "  "
            ]
          },
          "metadata": {},
          "execution_count": 13
        }
      ]
    },
    {
      "cell_type": "code",
      "source": [
        "# Bar graph of class distribution in the dataset- valid\n",
        "sns.countplot(x ='Y',  data = val_data)\n",
        "plt.title(\"Count plot for valid data\")\n",
        "# Show the plot\n",
        "plt.show()"
      ],
      "metadata": {
        "colab": {
          "base_uri": "https://localhost:8080/",
          "height": 296
        },
        "id": "CzoWP6y6C_g-",
        "outputId": "534f8c2e-864b-4776-e189-2193b22bad24"
      },
      "execution_count": 14,
      "outputs": [
        {
          "output_type": "display_data",
          "data": {
            "text/plain": [
              "<Figure size 432x288 with 1 Axes>"
            ],
            "image/png": "[encoded data removed]"
          },
          "metadata": {
            "needs_background": "light"
          }
        }
      ]
    },
    {
      "cell_type": "code",
      "execution_count": 15,
      "metadata": {
        "colab": {
          "base_uri": "https://localhost:8080/"
        },
        "id": "YdBuWfVYEdZQ",
        "outputId": "475b5a24-4452-4083-e200-fde7fa748f8a"
      },
      "outputs": [
        {
          "output_type": "stream",
          "name": "stdout",
          "text": [
            "Shape of train data :  (45000, 6)\n",
            "Sahpe of valid data :  (15000, 6)\n"
          ]
        }
      ],
      "source": [
        "# Print the shapes of train and test data.\n",
        "print(\"Shape of train data : \",train_data.shape)\n",
        "print(\"Sahpe of valid data : \",val_data.shape)"
      ]
    },
    {
      "cell_type": "markdown",
      "source": [
        "# Data Pre-processing (0.25 mark)\n",
        "1. Need for this Step- Since the models we use cannot accept string inputs or cannot be of the string format. We have to come up with a way of handling this step. The discussion of different ways of handling this step is out of the scope of this assignment.\n",
        "2. Please usethis pre-trained embedding layer  (Links to an external site.)from TensorFlow hub for this assignment. This link also has a code snippet on how to convert a sentence to a vector. Refer to that for further clarity on this subject.\n",
        "3. Bring the train and test data in the required format."
      ],
      "metadata": {
        "id": "4MJLLNU_D1pE"
      }
    },
    {
      "cell_type": "code",
      "execution_count": 16,
      "metadata": {
        "id": "EfaJ0IA0Eic7"
      },
      "outputs": [],
      "source": [
        "# loading the embeddings mentioned\n",
        "embedding = \"https://tfhub.dev/google/nnlm-en-dim128/2\"\n",
        "hub_layer = hub.KerasLayer(embedding, input_shape=[], \n",
        "                           dtype=tf.string, trainable=True)"
      ]
    },
    {
      "cell_type": "markdown",
      "source": [
        "# Model Building (0.2*5 = 1 mark)\n",
        "1. Sequential Model layers- Use AT LEAST 3 hidden layers with appropriate input for each. Choose the best number for hidden units and give reasons.\n",
        "2. Add L2 regularization to all the layers.\n",
        "3. Add one layer of dropout at the appropriate position and give reasons.\n",
        "4. Choose the appropriate activation function for all the layers.\n",
        "5. Print the model summary."
      ],
      "metadata": {
        "id": "tjRq_hJHER4h"
      }
    },
    {
      "cell_type": "code",
      "source": [
        "model = tf.keras.Sequential()\n",
        "model.add(hub_layer)\n",
        "model.add(tf.keras.layers.Dense(1024, activation='relu',kernel_regularizer='l2'))\n",
        "model.add(tf.keras.layers.Dense(256, activation='relu',kernel_regularizer='l2'))\n",
        "model.add(tf.keras.layers.Dense(128, activation='relu',kernel_regularizer='l2'))\n",
        "model.add(Dropout(0.2))\n",
        "model.add(tf.keras.layers.Dense(3,activation=\"softmax\",kernel_regularizer='l2'))\n",
        "\n",
        "model.summary()"
      ],
      "metadata": {
        "colab": {
          "base_uri": "https://localhost:8080/"
        },
        "id": "ACYuuV3XV40g",
        "outputId": "fe1c9db6-0249-4373-8073-1c3182152dd2"
      },
      "execution_count": 17,
      "outputs": [
        {
          "output_type": "stream",
          "name": "stdout",
          "text": [
            "Model: \"sequential\"\n",
            "_________________________________________________________________\n",
            " Layer (type)                Output Shape              Param #   \n",
            "=================================================================\n",
            " keras_layer (KerasLayer)    (None, 128)               124642688 \n",
            "                                                                 \n",
            " dense (Dense)               (None, 1024)              132096    \n",
            "                                                                 \n",
            " dense_1 (Dense)             (None, 256)               262400    \n",
            "                                                                 \n",
            " dense_2 (Dense)             (None, 128)               32896     \n",
            "                                                                 \n",
            " dropout (Dropout)           (None, 128)               0         \n",
            "                                                                 \n",
            " dense_3 (Dense)             (None, 3)                 387       \n",
            "                                                                 \n",
            "=================================================================\n",
            "Total params: 125,070,467\n",
            "Trainable params: 125,070,467\n",
            "Non-trainable params: 0\n",
            "_________________________________________________________________\n"
          ]
        }
      ]
    },
    {
      "cell_type": "markdown",
      "source": [
        "# Reasons:\n",
        "1. Used 3 hidden layers along with 1 initial hub layer and a dropout layer. 3 hidden layers with 1024/256/128 hidden units are giving best result. More the number of layer, longer is the time taken to train the model with more chances of overfitting.\n",
        "2. Tested dropout at first dense layer then second layer then third dense layer. We found that after third layer the model has good performance in accuracy. Hence we positioned the dropout after third layer."
      ],
      "metadata": {
        "id": "U0fblHSTrr1j"
      }
    },
    {
      "cell_type": "markdown",
      "source": [
        "# Model Compilation (0.25 mark)\n",
        "1. Compile the model with the appropriate loss function.\n",
        "2. Use an appropriate optimizer. Give reasons for the choice of learning rate and its value.\n",
        "3. Use accuracy as a metric."
      ],
      "metadata": {
        "id": "es1gEacJEt99"
      }
    },
    {
      "cell_type": "code",
      "source": [
        "# loss function\n",
        "loss_fn = tf.keras.losses.SparseCategoricalCrossentropy()\n",
        "# optimizer\n",
        "optimizer = tf.keras.optimizers.Adam(0.00003)\n",
        "model.compile(optimizer=optimizer,\n",
        "              loss=loss_fn,\n",
        "              metrics=['accuracy'],\n",
        "              \n",
        "              )"
      ],
      "metadata": {
        "id": "XbDn6jxXWGVu"
      },
      "execution_count": 18,
      "outputs": []
    },
    {
      "cell_type": "markdown",
      "source": [
        "# Reasons:\n",
        "* If the learning rate is high, then training may not converge or even diverge. Weight changes can be so big that the optimizer overshoots the minimum and makes the loss worse. So we have chosen between 0.001 and 0.01 and compared their accuracy performance. Furthermore very less learning rate takes longer time."
      ],
      "metadata": {
        "id": "A-_jq2xdtg83"
      }
    },
    {
      "cell_type": "code",
      "source": [
        "from sklearn.preprocessing import LabelEncoder\n",
        "encoder = LabelEncoder()\n",
        "Y_val = encoder.fit_transform(val_data.Y)\n"
      ],
      "metadata": {
        "id": "2FWNZbccqoY5"
      },
      "execution_count": 19,
      "outputs": []
    },
    {
      "cell_type": "code",
      "source": [
        "train_data['Body']=train_data['Title'] + train_data['Body']\n",
        "val_data['Body']=val_data['Title'] + val_data['Body']"
      ],
      "metadata": {
        "id": "oL4swNjWSDjA"
      },
      "execution_count": 20,
      "outputs": []
    },
    {
      "cell_type": "code",
      "source": [
        "from sklearn.model_selection import train_test_split\n",
        "\n",
        "train, test = train_test_split(train_data, test_size=0.5,random_state=123)\n",
        "Y_train=train.Y\n",
        "Y_train=encoder.fit_transform(Y_train)\n",
        "Y_test=test.Y\n",
        "Y_test=encoder.fit_transform(Y_test)\n",
        "\n"
      ],
      "metadata": {
        "id": "AfWtuGxAJ3Dt"
      },
      "execution_count": 21,
      "outputs": []
    },
    {
      "cell_type": "markdown",
      "source": [
        "# Model Training (0.5 + 0.25 = 0.75 mark)\n",
        "1. Train the model for an appropriate number of epochs. Print the train and validation accuracy and loss for each epoch. Use the appropriate batch size.\n",
        "2. Plot the loss and accuracy history graphs for both train and validation set. Print the total time taken for training."
      ],
      "metadata": {
        "id": "PbXswZp-Fa9J"
      }
    },
    {
      "cell_type": "code",
      "source": [
        "import time\n",
        "\n",
        "obj = time.gmtime(0)\n",
        "\n",
        "history = model.fit(train.Body,Y_train,batch_size=512,\n",
        "                epochs=25,\n",
        "                validation_data=(test.Body,Y_test),\n",
        "                verbose=True)\n",
        "time_sec = time.time()\n",
        "print(\"Time taken for training: \", time_sec, \" seconds\")"
      ],
      "metadata": {
        "colab": {
          "base_uri": "https://localhost:8080/"
        },
        "id": "29JKSpp6Ysaa",
        "outputId": "cad6c07e-fa68-4d6c-fa2e-9e16b99873fd"
      },
      "execution_count": 22,
      "outputs": [
        {
          "output_type": "stream",
          "name": "stdout",
          "text": [
            "Epoch 1/25\n",
            "44/44 [==============================] - 10s 142ms/step - loss: 9.0537 - accuracy: 0.3781 - val_loss: 8.8473 - val_accuracy: 0.4146\n",
            "Epoch 2/25\n",
            "44/44 [==============================] - 6s 135ms/step - loss: 8.6568 - accuracy: 0.4255 - val_loss: 8.4608 - val_accuracy: 0.4377\n",
            "Epoch 3/25\n",
            "44/44 [==============================] - 6s 136ms/step - loss: 8.2783 - accuracy: 0.4505 - val_loss: 8.0917 - val_accuracy: 0.4560\n",
            "Epoch 4/25\n",
            "44/44 [==============================] - 6s 135ms/step - loss: 7.9168 - accuracy: 0.4663 - val_loss: 7.7385 - val_accuracy: 0.4772\n",
            "Epoch 5/25\n",
            "44/44 [==============================] - 6s 135ms/step - loss: 7.5702 - accuracy: 0.4949 - val_loss: 7.3996 - val_accuracy: 0.5000\n",
            "Epoch 6/25\n",
            "44/44 [==============================] - 6s 135ms/step - loss: 7.2369 - accuracy: 0.5159 - val_loss: 7.0733 - val_accuracy: 0.5316\n",
            "Epoch 7/25\n",
            "44/44 [==============================] - 6s 148ms/step - loss: 6.9153 - accuracy: 0.5473 - val_loss: 6.7584 - val_accuracy: 0.5495\n",
            "Epoch 8/25\n",
            "44/44 [==============================] - 7s 159ms/step - loss: 6.6048 - accuracy: 0.5642 - val_loss: 6.4542 - val_accuracy: 0.5729\n",
            "Epoch 9/25\n",
            "44/44 [==============================] - 7s 149ms/step - loss: 6.3046 - accuracy: 0.5831 - val_loss: 6.1616 - val_accuracy: 0.5840\n",
            "Epoch 10/25\n",
            "44/44 [==============================] - 6s 136ms/step - loss: 6.0154 - accuracy: 0.6002 - val_loss: 5.8807 - val_accuracy: 0.6011\n",
            "Epoch 11/25\n",
            "44/44 [==============================] - 6s 135ms/step - loss: 5.7377 - accuracy: 0.6200 - val_loss: 5.6130 - val_accuracy: 0.6135\n",
            "Epoch 12/25\n",
            "44/44 [==============================] - 6s 135ms/step - loss: 5.4740 - accuracy: 0.6351 - val_loss: 5.3600 - val_accuracy: 0.6245\n",
            "Epoch 13/25\n",
            "44/44 [==============================] - 6s 135ms/step - loss: 5.2249 - accuracy: 0.6477 - val_loss: 5.1213 - val_accuracy: 0.6349\n",
            "Epoch 14/25\n",
            "44/44 [==============================] - 6s 136ms/step - loss: 4.9878 - accuracy: 0.6632 - val_loss: 4.8961 - val_accuracy: 0.6464\n",
            "Epoch 15/25\n",
            "44/44 [==============================] - 6s 143ms/step - loss: 4.7672 - accuracy: 0.6734 - val_loss: 4.6843 - val_accuracy: 0.6535\n",
            "Epoch 16/25\n",
            "44/44 [==============================] - 7s 149ms/step - loss: 4.5555 - accuracy: 0.6847 - val_loss: 4.4831 - val_accuracy: 0.6584\n",
            "Epoch 17/25\n",
            "44/44 [==============================] - 6s 135ms/step - loss: 4.3556 - accuracy: 0.6941 - val_loss: 4.2932 - val_accuracy: 0.6659\n",
            "Epoch 18/25\n",
            "44/44 [==============================] - 6s 136ms/step - loss: 4.1667 - accuracy: 0.7023 - val_loss: 4.1130 - val_accuracy: 0.6707\n",
            "Epoch 19/25\n",
            "44/44 [==============================] - 6s 135ms/step - loss: 3.9868 - accuracy: 0.7088 - val_loss: 3.9418 - val_accuracy: 0.6729\n",
            "Epoch 20/25\n",
            "44/44 [==============================] - 6s 136ms/step - loss: 3.8162 - accuracy: 0.7178 - val_loss: 3.7801 - val_accuracy: 0.6771\n",
            "Epoch 21/25\n",
            "44/44 [==============================] - 6s 134ms/step - loss: 3.6537 - accuracy: 0.7242 - val_loss: 3.6260 - val_accuracy: 0.6815\n",
            "Epoch 22/25\n",
            "44/44 [==============================] - 6s 134ms/step - loss: 3.4977 - accuracy: 0.7292 - val_loss: 3.4800 - val_accuracy: 0.6836\n",
            "Epoch 23/25\n",
            "44/44 [==============================] - 6s 133ms/step - loss: 3.3521 - accuracy: 0.7371 - val_loss: 3.3417 - val_accuracy: 0.6878\n",
            "Epoch 24/25\n",
            "44/44 [==============================] - 6s 134ms/step - loss: 3.2122 - accuracy: 0.7410 - val_loss: 3.2097 - val_accuracy: 0.6922\n",
            "Epoch 25/25\n",
            "44/44 [==============================] - 6s 134ms/step - loss: 3.0787 - accuracy: 0.7491 - val_loss: 3.0844 - val_accuracy: 0.6952\n",
            "Time taken for training:  1647231092.1047003  seconds\n"
          ]
        }
      ]
    },
    {
      "cell_type": "code",
      "source": [
        "# summarize history for accuracy\n",
        "plt.plot(history.history['accuracy'])\n",
        "plt.plot(history.history['val_accuracy'])\n",
        "plt.title('Model accuracy')\n",
        "plt.ylabel('accuracy')\n",
        "plt.xlabel('epoch')\n",
        "plt.legend(['train', 'test'], loc='upper left')\n",
        "plt.show()\n",
        "\n",
        "# summarize history for loss\n",
        "plt.plot(history.history['loss'])\n",
        "plt.plot(history.history['val_loss'])\n",
        "plt.title('Model loss')\n",
        "plt.ylabel('loss')\n",
        "plt.xlabel('epoch')\n",
        "plt.legend(['train', 'test'], loc='upper left')\n",
        "plt.show()"
      ],
      "metadata": {
        "colab": {
          "base_uri": "https://localhost:8080/",
          "height": 573
        },
        "id": "yuyfjpJIUjQy",
        "outputId": "69a865b2-184f-4e7f-b18a-1f2572da3175"
      },
      "execution_count": 23,
      "outputs": [
        {
          "output_type": "display_data",
          "data": {
            "text/plain": [
              "<Figure size 432x288 with 1 Axes>"
            ],
            "image/png": "[encoded data removed]"
          },
          "metadata": {
            "needs_background": "light"
          }
        },
        {
          "output_type": "display_data",
          "data": {
            "text/plain": [
              "<Figure size 432x288 with 1 Axes>"
            ],
            "image/png": "[encoded data removed]"
          },
          "metadata": {
            "needs_background": "light"
          }
        }
      ]
    },
    {
      "cell_type": "code",
      "source": [
        "model.optimizer.get_config()"
      ],
      "metadata": {
        "colab": {
          "base_uri": "https://localhost:8080/"
        },
        "id": "UzBvS63GMYaR",
        "outputId": "217429ef-1aa7-4fb5-9e56-6e2a764c14c0"
      },
      "execution_count": 24,
      "outputs": [
        {
          "output_type": "execute_result",
          "data": {
            "text/plain": [
              "{'amsgrad': False,\n",
              " 'beta_1': 0.9,\n",
              " 'beta_2': 0.999,\n",
              " 'decay': 0.0,\n",
              " 'epsilon': 1e-07,\n",
              " 'learning_rate': 3e-05,\n",
              " 'name': 'Adam'}"
            ]
          },
          "metadata": {},
          "execution_count": 24
        }
      ]
    },
    {
      "cell_type": "markdown",
      "source": [
        "# Model Evaluation (0.5 + 0.5 = 1 mark)\n",
        "1. Print the final train and validation loss and accuracy. Print confusion matrix and classification report for the validation dataset. Analyse and report the best and worst performing class.\n",
        "2. Print the two most incorrectly classified records for each class in the test dataset."
      ],
      "metadata": {
        "id": "tfOjgI-rFtao"
      }
    },
    {
      "cell_type": "code",
      "source": [
        "results = model.evaluate(val_data.Body,Y_val, verbose=1)\n",
        "\n",
        "for name, value in zip(model.metrics_names, results):\n",
        "  print(\"Validation %s: %.3f\" % (name, value))"
      ],
      "metadata": {
        "colab": {
          "base_uri": "https://localhost:8080/"
        },
        "id": "udxmhQhgLrCv",
        "outputId": "ef08557c-d613-4514-873a-c454bec30720"
      },
      "execution_count": 25,
      "outputs": [
        {
          "output_type": "stream",
          "name": "stdout",
          "text": [
            "469/469 [==============================] - 5s 12ms/step - loss: 3.0822 - accuracy: 0.7020\n",
            "Validation loss: 3.082\n",
            "Validation accuracy: 0.702\n"
          ]
        }
      ]
    },
    {
      "cell_type": "code",
      "source": [
        "from sklearn.metrics import confusion_matrix\n",
        "import numpy as np\n"
      ],
      "metadata": {
        "id": "7YzAQwKLNIfY"
      },
      "execution_count": 26,
      "outputs": []
    },
    {
      "cell_type": "code",
      "source": [
        "y_pred=model.predict(val_data.Body)"
      ],
      "metadata": {
        "id": "zzX-XJ9Jdi5u"
      },
      "execution_count": 27,
      "outputs": []
    },
    {
      "cell_type": "code",
      "source": [
        "Pred_classes = np.argmax(y_pred, axis = 1)\n",
        "print(Pred_classes)\n",
        "print(Y_val)"
      ],
      "metadata": {
        "colab": {
          "base_uri": "https://localhost:8080/"
        },
        "id": "MJTA9zu15ntS",
        "outputId": "a0ad523b-c487-4e79-b17d-04c70d3f525d"
      },
      "execution_count": 28,
      "outputs": [
        {
          "output_type": "stream",
          "name": "stdout",
          "text": [
            "[2 2 0 ... 2 1 0]\n",
            "[2 2 0 ... 2 1 1]\n"
          ]
        }
      ]
    },
    {
      "cell_type": "code",
      "source": [
        "encoder.inverse_transform([0, 1, 2])"
      ],
      "metadata": {
        "colab": {
          "base_uri": "https://localhost:8080/"
        },
        "id": "QqF1cw0L7dV7",
        "outputId": "efdae5dc-6e84-4a49-ea4f-484586cdaa64"
      },
      "execution_count": 29,
      "outputs": [
        {
          "output_type": "execute_result",
          "data": {
            "text/plain": [
              "array(['HQ', 'LQ_CLOSE', 'LQ_EDIT'], dtype=object)"
            ]
          },
          "metadata": {},
          "execution_count": 29
        }
      ]
    },
    {
      "cell_type": "markdown",
      "source": [
        "**Classification Report**"
      ],
      "metadata": {
        "id": "x4_UaUkdVyoH"
      }
    },
    {
      "cell_type": "code",
      "source": [
        "print(\"Detailed classification report:\\n\")\n",
        "print(classification_report(Y_val, Pred_classes))"
      ],
      "metadata": {
        "colab": {
          "base_uri": "https://localhost:8080/"
        },
        "id": "Lttzq65qUn5K",
        "outputId": "461315ba-0f03-4faf-84ec-a2a780ecfda4"
      },
      "execution_count": 30,
      "outputs": [
        {
          "output_type": "stream",
          "name": "stdout",
          "text": [
            "Detailed classification report:\n",
            "\n",
            "              precision    recall  f1-score   support\n",
            "\n",
            "           0       0.76      0.80      0.78      5000\n",
            "           1       0.59      0.60      0.60      5000\n",
            "           2       0.76      0.70      0.73      5000\n",
            "\n",
            "    accuracy                           0.70     15000\n",
            "   macro avg       0.70      0.70      0.70     15000\n",
            "weighted avg       0.70      0.70      0.70     15000\n",
            "\n"
          ]
        }
      ]
    },
    {
      "cell_type": "markdown",
      "source": [
        "**Confusion Matrix**"
      ],
      "metadata": {
        "id": "dx8OWoFXV8gB"
      }
    },
    {
      "cell_type": "code",
      "source": [
        "cm=confusion_matrix(Y_val,Pred_classes,labels = [0, 1, 2])\n",
        "# Creating a dataframe for an array-formatted Confusion matrix,so it will be easy for plotting.\n",
        "cm_df = pd.DataFrame(cm,\n",
        "                     index = encoder.inverse_transform([0, 1, 2]), \n",
        "                     columns = encoder.inverse_transform([0, 1, 2]))"
      ],
      "metadata": {
        "id": "Yvlufv2Od-EG"
      },
      "execution_count": 31,
      "outputs": []
    },
    {
      "cell_type": "code",
      "source": [
        "def show_confusion_matrix(confusion_matrix):\n",
        "  hmap = sns.heatmap(confusion_matrix, annot=True, fmt=\"d\", cmap=\"Blues\")\n",
        "  hmap.yaxis.set_ticklabels(hmap.yaxis.get_ticklabels(), rotation=0, ha='right')\n",
        "  hmap.xaxis.set_ticklabels(hmap.xaxis.get_ticklabels(), rotation=30, ha='right')\n",
        "  plt.ylabel('True class')\n",
        "  plt.xlabel('Predicted class');\n",
        "  plt.title(\"Confusion Matrix\")"
      ],
      "metadata": {
        "id": "1uCXRVT66sfh"
      },
      "execution_count": 32,
      "outputs": []
    },
    {
      "cell_type": "code",
      "source": [
        "show_confusion_matrix(cm_df)"
      ],
      "metadata": {
        "colab": {
          "base_uri": "https://localhost:8080/",
          "height": 320
        },
        "id": "a_ZT_8fh8deK",
        "outputId": "562aca77-1d89-4812-9f9a-d5d6a0e01bc2"
      },
      "execution_count": 33,
      "outputs": [
        {
          "output_type": "display_data",
          "data": {
            "text/plain": [
              "<Figure size 432x288 with 2 Axes>"
            ],
            "image/png": "[encoded data removed]"
          },
          "metadata": {
            "needs_background": "light"
          }
        }
      ]
    },
    {
      "cell_type": "markdown",
      "source": [
        "\n",
        "\n",
        "🙂 *best* performing class is : **HQ** Since it has more number of classifications correctly classified\n",
        "\n",
        "😞 *worst* performing class is : **LQ_CLOSE** Since it has more number of classifications incorrectly classified \n",
        "\n",
        "\n",
        "\n",
        "\n",
        "\n",
        "\n",
        "\n"
      ],
      "metadata": {
        "id": "bJZTDdq99yvT"
      }
    },
    {
      "cell_type": "code",
      "source": [
        "val_data['Y_val']=Y_val\n",
        "val_data['Pred_classes']=Pred_classes"
      ],
      "metadata": {
        "id": "zAaF49QK84HO"
      },
      "execution_count": 34,
      "outputs": []
    },
    {
      "cell_type": "code",
      "source": [
        "def print_incorrect_record(clas):\n",
        "    global val\n",
        "    val=val_data[(val_data['Y']==clas) & (val_data['Y_val']!=val_data['Pred_classes'])]\n",
        "\n",
        "    "
      ],
      "metadata": {
        "id": "glFyY96HArJI"
      },
      "execution_count": 35,
      "outputs": []
    },
    {
      "cell_type": "code",
      "source": [
        "clas='HQ'\n",
        "print('For class {} '.format(clas))\n",
        "print_incorrect_record(clas)\n",
        "# data_table.DataTable(val, include_index=False, num_rows_per_page=2)\n",
        "\n"
      ],
      "metadata": {
        "colab": {
          "base_uri": "https://localhost:8080/"
        },
        "id": "Rs_Xa7jBC8Nz",
        "outputId": "a97051f3-2b41-48d0-bc2f-9f52da0fba3f"
      },
      "execution_count": 36,
      "outputs": [
        {
          "output_type": "stream",
          "name": "stdout",
          "text": [
            "For class HQ \n"
          ]
        }
      ]
    },
    {
      "cell_type": "code",
      "source": [
        "clas='LQ_CLOSE'\n",
        "print('For class {}'.format(clas))\n",
        "print_incorrect_record(clas)\n",
        "# data_table.DataTable(val, include_index=False, num_rows_per_page=2)"
      ],
      "metadata": {
        "colab": {
          "base_uri": "https://localhost:8080/"
        },
        "id": "nE0dyV5JBtPx",
        "outputId": "eb0b10b3-15a1-4870-a56c-a8a813eefce9"
      },
      "execution_count": 37,
      "outputs": [
        {
          "output_type": "stream",
          "name": "stdout",
          "text": [
            "For class LQ_CLOSE\n"
          ]
        }
      ]
    },
    {
      "cell_type": "code",
      "source": [
        "clas='LQ_EDIT'\n",
        "print('For class {} '.format(clas))\n",
        "print_incorrect_record(clas)\n",
        "# data_table.DataTable(val, include_index=False, num_rows_per_page=2)"
      ],
      "metadata": {
        "colab": {
          "base_uri": "https://localhost:8080/"
        },
        "id": "eLGUrCMKCKvG",
        "outputId": "86766f49-f348-46e4-ab56-0be36cd23239"
      },
      "execution_count": 38,
      "outputs": [
        {
          "output_type": "stream",
          "name": "stdout",
          "text": [
            "For class LQ_EDIT \n"
          ]
        }
      ]
    },
    {
      "cell_type": "markdown",
      "source": [
        "\n",
        "\n",
        "# Hyperparameter Tuning \n",
        "Build two more models by changing the following hyperparameters one at a time. Write the code for Model Building, Model Compilation, Model Training and Model Evaluation as given in the instructions above for each additional model. (1 + 1 = 2 marks)\n",
        "\n",
        "1. Regularization: Train a model without regularization\n",
        "2. Dropout:Change the position and value of dropout layer\n",
        "\n",
        "Write a comparison between each model and give reasons for the difference in results."
      ],
      "metadata": {
        "id": "Cy3cC-AOHYyQ"
      }
    },
    {
      "cell_type": "markdown",
      "source": [
        "## Regularization: Train a model without regularization"
      ],
      "metadata": {
        "id": "uDlt5gePmbuM"
      }
    },
    {
      "cell_type": "code",
      "source": [
        "model_1 = tf.keras.Sequential()\n",
        "model_1.add(hub_layer)\n",
        "model_1.add(tf.keras.layers.Dense(1024, activation='relu'))\n",
        "model_1.add(tf.keras.layers.Dense(256, activation='relu'))\n",
        "model_1.add(Dropout(0.2))\n",
        "model_1.add(tf.keras.layers.Dense(128, activation='relu'))\n",
        "model_1.add(Dropout(0.2))\n",
        "model_1.add(tf.keras.layers.Dense(3,activation=\"softmax\"))\n",
        "\n",
        "model_1.summary()"
      ],
      "metadata": {
        "colab": {
          "base_uri": "https://localhost:8080/"
        },
        "id": "9GbhSxYsFf-U",
        "outputId": "f260a30f-7d89-4935-c668-d155e659cd7a"
      },
      "execution_count": 39,
      "outputs": [
        {
          "output_type": "stream",
          "name": "stdout",
          "text": [
            "Model: \"sequential_1\"\n",
            "_________________________________________________________________\n",
            " Layer (type)                Output Shape              Param #   \n",
            "=================================================================\n",
            " keras_layer (KerasLayer)    (None, 128)               124642688 \n",
            "                                                                 \n",
            " dense_4 (Dense)             (None, 1024)              132096    \n",
            "                                                                 \n",
            " dense_5 (Dense)             (None, 256)               262400    \n",
            "                                                                 \n",
            " dropout_1 (Dropout)         (None, 256)               0         \n",
            "                                                                 \n",
            " dense_6 (Dense)             (None, 128)               32896     \n",
            "                                                                 \n",
            " dropout_2 (Dropout)         (None, 128)               0         \n",
            "                                                                 \n",
            " dense_7 (Dense)             (None, 3)                 387       \n",
            "                                                                 \n",
            "=================================================================\n",
            "Total params: 125,070,467\n",
            "Trainable params: 125,070,467\n",
            "Non-trainable params: 0\n",
            "_________________________________________________________________\n"
          ]
        }
      ]
    },
    {
      "cell_type": "code",
      "source": [
        "# loss function\n",
        "loss_fn = tf.keras.losses.SparseCategoricalCrossentropy()\n",
        "# optimizer\n",
        "optimizer = tf.keras.optimizers.Adam(0.00003)\n",
        "model_1.compile(optimizer=optimizer,\n",
        "              loss=loss_fn,\n",
        "              metrics=['accuracy'],\n",
        "              \n",
        "              )"
      ],
      "metadata": {
        "id": "0P97oAnYfG6m"
      },
      "execution_count": 40,
      "outputs": []
    },
    {
      "cell_type": "code",
      "source": [
        "history_1 = model_1.fit(train.Body,Y_train,batch_size=512,\n",
        "                epochs=25,\n",
        "                validation_data=(test.Body,Y_test),\n",
        "                verbose=True)"
      ],
      "metadata": {
        "colab": {
          "base_uri": "https://localhost:8080/"
        },
        "id": "r8PT4u7dezTB",
        "outputId": "400b5a0b-a3bd-44aa-e12a-e3a6f252637e"
      },
      "execution_count": 41,
      "outputs": [
        {
          "output_type": "stream",
          "name": "stdout",
          "text": [
            "Epoch 1/25\n",
            "44/44 [==============================] - 7s 139ms/step - loss: 1.0653 - accuracy: 0.4717 - val_loss: 1.0237 - val_accuracy: 0.5416\n",
            "Epoch 2/25\n",
            "44/44 [==============================] - 6s 134ms/step - loss: 0.9714 - accuracy: 0.6012 - val_loss: 0.9210 - val_accuracy: 0.6310\n",
            "Epoch 3/25\n",
            "44/44 [==============================] - 6s 133ms/step - loss: 0.8499 - accuracy: 0.6772 - val_loss: 0.8052 - val_accuracy: 0.6737\n",
            "Epoch 4/25\n",
            "44/44 [==============================] - 6s 133ms/step - loss: 0.7346 - accuracy: 0.7135 - val_loss: 0.7206 - val_accuracy: 0.6908\n",
            "Epoch 5/25\n",
            "44/44 [==============================] - 6s 134ms/step - loss: 0.6523 - accuracy: 0.7386 - val_loss: 0.6772 - val_accuracy: 0.7027\n",
            "Epoch 6/25\n",
            "44/44 [==============================] - 6s 133ms/step - loss: 0.6012 - accuracy: 0.7506 - val_loss: 0.6561 - val_accuracy: 0.7088\n",
            "Epoch 7/25\n",
            "44/44 [==============================] - 6s 133ms/step - loss: 0.5693 - accuracy: 0.7640 - val_loss: 0.6446 - val_accuracy: 0.7145\n",
            "Epoch 8/25\n",
            "44/44 [==============================] - 6s 134ms/step - loss: 0.5425 - accuracy: 0.7779 - val_loss: 0.6351 - val_accuracy: 0.7195\n",
            "Epoch 9/25\n",
            "44/44 [==============================] - 6s 135ms/step - loss: 0.5200 - accuracy: 0.7860 - val_loss: 0.6277 - val_accuracy: 0.7252\n",
            "Epoch 10/25\n",
            "44/44 [==============================] - 6s 134ms/step - loss: 0.5010 - accuracy: 0.7960 - val_loss: 0.6218 - val_accuracy: 0.7292\n",
            "Epoch 11/25\n",
            "44/44 [==============================] - 6s 134ms/step - loss: 0.4829 - accuracy: 0.8023 - val_loss: 0.6178 - val_accuracy: 0.7331\n",
            "Epoch 12/25\n",
            "44/44 [==============================] - 6s 132ms/step - loss: 0.4682 - accuracy: 0.8129 - val_loss: 0.6144 - val_accuracy: 0.7362\n",
            "Epoch 13/25\n",
            "44/44 [==============================] - 6s 132ms/step - loss: 0.4534 - accuracy: 0.8182 - val_loss: 0.6135 - val_accuracy: 0.7380\n",
            "Epoch 14/25\n",
            "44/44 [==============================] - 6s 133ms/step - loss: 0.4407 - accuracy: 0.8248 - val_loss: 0.6128 - val_accuracy: 0.7401\n",
            "Epoch 15/25\n",
            "44/44 [==============================] - 6s 132ms/step - loss: 0.4267 - accuracy: 0.8292 - val_loss: 0.6125 - val_accuracy: 0.7416\n",
            "Epoch 16/25\n",
            "44/44 [==============================] - 6s 133ms/step - loss: 0.4155 - accuracy: 0.8378 - val_loss: 0.6126 - val_accuracy: 0.7441\n",
            "Epoch 17/25\n",
            "44/44 [==============================] - 6s 135ms/step - loss: 0.4045 - accuracy: 0.8400 - val_loss: 0.6141 - val_accuracy: 0.7454\n",
            "Epoch 18/25\n",
            "44/44 [==============================] - 6s 132ms/step - loss: 0.3931 - accuracy: 0.8463 - val_loss: 0.6153 - val_accuracy: 0.7475\n",
            "Epoch 19/25\n",
            "44/44 [==============================] - 6s 136ms/step - loss: 0.3803 - accuracy: 0.8520 - val_loss: 0.6206 - val_accuracy: 0.7458\n",
            "Epoch 20/25\n",
            "44/44 [==============================] - 6s 133ms/step - loss: 0.3740 - accuracy: 0.8560 - val_loss: 0.6240 - val_accuracy: 0.7457\n",
            "Epoch 21/25\n",
            "44/44 [==============================] - 6s 132ms/step - loss: 0.3623 - accuracy: 0.8616 - val_loss: 0.6227 - val_accuracy: 0.7489\n",
            "Epoch 22/25\n",
            "44/44 [==============================] - 6s 134ms/step - loss: 0.3534 - accuracy: 0.8631 - val_loss: 0.6265 - val_accuracy: 0.7485\n",
            "Epoch 23/25\n",
            "44/44 [==============================] - 6s 133ms/step - loss: 0.3414 - accuracy: 0.8694 - val_loss: 0.6311 - val_accuracy: 0.7502\n",
            "Epoch 24/25\n",
            "44/44 [==============================] - 6s 134ms/step - loss: 0.3352 - accuracy: 0.8748 - val_loss: 0.6336 - val_accuracy: 0.7507\n",
            "Epoch 25/25\n",
            "44/44 [==============================] - 6s 133ms/step - loss: 0.3250 - accuracy: 0.8776 - val_loss: 0.6377 - val_accuracy: 0.7514\n"
          ]
        }
      ]
    },
    {
      "cell_type": "code",
      "source": [
        "# summarize history for accuracy\n",
        "plt.plot(history_1.history['accuracy'])\n",
        "plt.plot(history_1.history['val_accuracy'])\n",
        "plt.title('Model accuracy')\n",
        "plt.ylabel('accuracy')\n",
        "plt.xlabel('epoch')\n",
        "plt.legend(['train', 'test'], loc='upper left')\n",
        "plt.show()\n",
        "# summarize history for loss\n",
        "plt.plot(history_1.history['loss'])\n",
        "plt.plot(history_1.history['val_loss'])\n",
        "plt.title('Model loss')\n",
        "plt.ylabel('loss')\n",
        "plt.xlabel('epoch')\n",
        "plt.legend(['train', 'test'], loc='upper left')\n",
        "plt.show()"
      ],
      "metadata": {
        "colab": {
          "base_uri": "https://localhost:8080/",
          "height": 573
        },
        "id": "msYnvouSe9pY",
        "outputId": "ea122eca-0375-4af5-d48b-0f08f3581afd"
      },
      "execution_count": 42,
      "outputs": [
        {
          "output_type": "display_data",
          "data": {
            "text/plain": [
              "<Figure size 432x288 with 1 Axes>"
            ],
            "image/png": "[encoded data removed]"
          },
          "metadata": {
            "needs_background": "light"
          }
        },
        {
          "output_type": "display_data",
          "data": {
            "text/plain": [
              "<Figure size 432x288 with 1 Axes>"
            ],
            "image/png": "[encoded data removed]"
          },
          "metadata": {
            "needs_background": "light"
          }
        }
      ]
    },
    {
      "cell_type": "code",
      "source": [
        "results_1 = model_1.evaluate(val_data.Body,Y_val, verbose=1)\n",
        "\n",
        "for name, value in zip(model_1.metrics_names, results_1):\n",
        "  print(\"%s: %.3f\" % (name, value))"
      ],
      "metadata": {
        "colab": {
          "base_uri": "https://localhost:8080/"
        },
        "id": "JHoeAN0Ug20j",
        "outputId": "e61f1631-051b-44fe-bced-23fcba42e1af"
      },
      "execution_count": 43,
      "outputs": [
        {
          "output_type": "stream",
          "name": "stdout",
          "text": [
            "469/469 [==============================] - 5s 11ms/step - loss: 0.6381 - accuracy: 0.7529\n",
            "loss: 0.638\n",
            "accuracy: 0.753\n"
          ]
        }
      ]
    },
    {
      "cell_type": "markdown",
      "source": [
        "## Dropout:Change the position and value of dropout layer"
      ],
      "metadata": {
        "id": "WX7vAWwXml-_"
      }
    },
    {
      "cell_type": "code",
      "source": [
        "model_2= tf.keras.Sequential()\n",
        "model_2.add(hub_layer)\n",
        "model_2.add(tf.keras.layers.Dense(1024, activation='relu',kernel_regularizer='l2'))\n",
        "model_2.add(tf.keras.layers.Dense(256, activation='relu',kernel_regularizer='l2'))\n",
        "model_2.add(Dropout(0.5))\n",
        "model_2.add(tf.keras.layers.Dense(128, activation='relu',kernel_regularizer='l2'))\n",
        "model_2.add(tf.keras.layers.Dense(3,activation=\"softmax\",kernel_regularizer='l2'))\n",
        "\n",
        "model_2.summary()"
      ],
      "metadata": {
        "colab": {
          "base_uri": "https://localhost:8080/"
        },
        "id": "P6kW3jUShDDj",
        "outputId": "f577911f-3d50-4dc1-e1c9-90925114f777"
      },
      "execution_count": 44,
      "outputs": [
        {
          "output_type": "stream",
          "name": "stdout",
          "text": [
            "Model: \"sequential_2\"\n",
            "_________________________________________________________________\n",
            " Layer (type)                Output Shape              Param #   \n",
            "=================================================================\n",
            " keras_layer (KerasLayer)    (None, 128)               124642688 \n",
            "                                                                 \n",
            " dense_8 (Dense)             (None, 1024)              132096    \n",
            "                                                                 \n",
            " dense_9 (Dense)             (None, 256)               262400    \n",
            "                                                                 \n",
            " dropout_3 (Dropout)         (None, 256)               0         \n",
            "                                                                 \n",
            " dense_10 (Dense)            (None, 128)               32896     \n",
            "                                                                 \n",
            " dense_11 (Dense)            (None, 3)                 387       \n",
            "                                                                 \n",
            "=================================================================\n",
            "Total params: 125,070,467\n",
            "Trainable params: 125,070,467\n",
            "Non-trainable params: 0\n",
            "_________________________________________________________________\n"
          ]
        }
      ]
    },
    {
      "cell_type": "code",
      "source": [
        "# loss function\n",
        "loss_fn = tf.keras.losses.SparseCategoricalCrossentropy()\n",
        "# optimizer\n",
        "optimizer = tf.keras.optimizers.Adam(0.00003)\n",
        "model_2.compile(optimizer=optimizer,\n",
        "              loss=loss_fn,\n",
        "              metrics=['accuracy'],\n",
        "              \n",
        "              )"
      ],
      "metadata": {
        "id": "dZ8jII0ajnpl"
      },
      "execution_count": 45,
      "outputs": []
    },
    {
      "cell_type": "code",
      "source": [
        "history_2 = model_2.fit(train.Body,Y_train,batch_size=512,\n",
        "                epochs=25,\n",
        "                validation_data=(test.Body,Y_test),\n",
        "                verbose=True)"
      ],
      "metadata": {
        "colab": {
          "base_uri": "https://localhost:8080/"
        },
        "id": "rR7TGa0TjsTW",
        "outputId": "435d00a0-9075-429c-b368-f7b281ff64eb"
      },
      "execution_count": 46,
      "outputs": [
        {
          "output_type": "stream",
          "name": "stdout",
          "text": [
            "Epoch 1/25\n",
            "44/44 [==============================] - 7s 141ms/step - loss: 9.0230 - accuracy: 0.4022 - val_loss: 8.8116 - val_accuracy: 0.5575\n",
            "Epoch 2/25\n",
            "44/44 [==============================] - 6s 135ms/step - loss: 8.6192 - accuracy: 0.5444 - val_loss: 8.4151 - val_accuracy: 0.5825\n",
            "Epoch 3/25\n",
            "44/44 [==============================] - 6s 134ms/step - loss: 8.2269 - accuracy: 0.6059 - val_loss: 8.0284 - val_accuracy: 0.6192\n",
            "Epoch 4/25\n",
            "44/44 [==============================] - 6s 135ms/step - loss: 7.8438 - accuracy: 0.6540 - val_loss: 7.6508 - val_accuracy: 0.6394\n",
            "Epoch 5/25\n",
            "44/44 [==============================] - 6s 134ms/step - loss: 7.4685 - accuracy: 0.6858 - val_loss: 7.2866 - val_accuracy: 0.6698\n",
            "Epoch 6/25\n",
            "44/44 [==============================] - 6s 134ms/step - loss: 7.1072 - accuracy: 0.7132 - val_loss: 6.9417 - val_accuracy: 0.6887\n",
            "Epoch 7/25\n",
            "44/44 [==============================] - 6s 133ms/step - loss: 6.7620 - accuracy: 0.7354 - val_loss: 6.6208 - val_accuracy: 0.6973\n",
            "Epoch 8/25\n",
            "44/44 [==============================] - 6s 134ms/step - loss: 6.4413 - accuracy: 0.7538 - val_loss: 6.3241 - val_accuracy: 0.7040\n",
            "Epoch 9/25\n",
            "44/44 [==============================] - 6s 133ms/step - loss: 6.1417 - accuracy: 0.7678 - val_loss: 6.0463 - val_accuracy: 0.7145\n",
            "Epoch 10/25\n",
            "44/44 [==============================] - 6s 133ms/step - loss: 5.8599 - accuracy: 0.7812 - val_loss: 5.7857 - val_accuracy: 0.7172\n",
            "Epoch 11/25\n",
            "44/44 [==============================] - 6s 133ms/step - loss: 5.5943 - accuracy: 0.7900 - val_loss: 5.5397 - val_accuracy: 0.7212\n",
            "Epoch 12/25\n",
            "44/44 [==============================] - 6s 133ms/step - loss: 5.3453 - accuracy: 0.7962 - val_loss: 5.3065 - val_accuracy: 0.7231\n",
            "Epoch 13/25\n",
            "44/44 [==============================] - 6s 132ms/step - loss: 5.1087 - accuracy: 0.8084 - val_loss: 5.0857 - val_accuracy: 0.7261\n",
            "Epoch 14/25\n",
            "44/44 [==============================] - 6s 134ms/step - loss: 4.8836 - accuracy: 0.8142 - val_loss: 4.8747 - val_accuracy: 0.7298\n",
            "Epoch 15/25\n",
            "44/44 [==============================] - 7s 149ms/step - loss: 4.6679 - accuracy: 0.8213 - val_loss: 4.6747 - val_accuracy: 0.7332\n",
            "Epoch 16/25\n",
            "44/44 [==============================] - 7s 155ms/step - loss: 4.4653 - accuracy: 0.8275 - val_loss: 4.4840 - val_accuracy: 0.7363\n",
            "Epoch 17/25\n",
            "44/44 [==============================] - 7s 160ms/step - loss: 4.2716 - accuracy: 0.8348 - val_loss: 4.3028 - val_accuracy: 0.7392\n",
            "Epoch 18/25\n",
            "44/44 [==============================] - 6s 146ms/step - loss: 4.0853 - accuracy: 0.8425 - val_loss: 4.1301 - val_accuracy: 0.7414\n",
            "Epoch 19/25\n",
            "44/44 [==============================] - 6s 136ms/step - loss: 3.9116 - accuracy: 0.8458 - val_loss: 3.9663 - val_accuracy: 0.7446\n",
            "Epoch 20/25\n",
            "44/44 [==============================] - 6s 135ms/step - loss: 3.7425 - accuracy: 0.8519 - val_loss: 3.8101 - val_accuracy: 0.7457\n",
            "Epoch 21/25\n",
            "44/44 [==============================] - 6s 134ms/step - loss: 3.5843 - accuracy: 0.8534 - val_loss: 3.6613 - val_accuracy: 0.7473\n",
            "Epoch 22/25\n",
            "44/44 [==============================] - 6s 133ms/step - loss: 3.4322 - accuracy: 0.8571 - val_loss: 3.5204 - val_accuracy: 0.7481\n",
            "Epoch 23/25\n",
            "44/44 [==============================] - 6s 133ms/step - loss: 3.2873 - accuracy: 0.8626 - val_loss: 3.3834 - val_accuracy: 0.7504\n",
            "Epoch 24/25\n",
            "44/44 [==============================] - 6s 134ms/step - loss: 3.1493 - accuracy: 0.8668 - val_loss: 3.2564 - val_accuracy: 0.7515\n",
            "Epoch 25/25\n",
            "44/44 [==============================] - 6s 134ms/step - loss: 3.0181 - accuracy: 0.8668 - val_loss: 3.1335 - val_accuracy: 0.7510\n"
          ]
        }
      ]
    },
    {
      "cell_type": "code",
      "source": [
        "# summarize history for accuracy\n",
        "plt.plot(history_2.history['accuracy'])\n",
        "plt.plot(history_2.history['val_accuracy'])\n",
        "plt.title('Model accuracy')\n",
        "plt.ylabel('accuracy')\n",
        "plt.xlabel('epoch')\n",
        "plt.legend(['train', 'test'], loc='upper left')\n",
        "plt.show()\n",
        "# summarize history for loss\n",
        "plt.plot(history_2.history['loss'])\n",
        "plt.plot(history_2.history['val_loss'])\n",
        "plt.title('Model loss')\n",
        "plt.ylabel('loss')\n",
        "plt.xlabel('epoch')\n",
        "plt.legend(['train', 'test'], loc='upper left')\n",
        "plt.show()"
      ],
      "metadata": {
        "colab": {
          "base_uri": "https://localhost:8080/",
          "height": 573
        },
        "id": "MuAEnngujxkI",
        "outputId": "41d76a5f-ef62-4646-96e2-e5a60171a4eb"
      },
      "execution_count": 47,
      "outputs": [
        {
          "output_type": "display_data",
          "data": {
            "text/plain": [
              "<Figure size 432x288 with 1 Axes>"
            ],
            "image/png": "[encoded data removed]"
          },
          "metadata": {
            "needs_background": "light"
          }
        },
        {
          "output_type": "display_data",
          "data": {
            "text/plain": [
              "<Figure size 432x288 with 1 Axes>"
            ],
            "image/png": "[encoded data removed]"
          },
          "metadata": {
            "needs_background": "light"
          }
        }
      ]
    },
    {
      "cell_type": "code",
      "source": [
        "results_2 = model_2.evaluate(val_data.Body,Y_val, verbose=1)\n",
        "\n",
        "for name, value in zip(model_2.metrics_names, results_1):\n",
        "  print(\"%s: %.3f\" % (name, value))"
      ],
      "metadata": {
        "colab": {
          "base_uri": "https://localhost:8080/"
        },
        "id": "88iainVykhzY",
        "outputId": "aa7b9a85-f29f-4b7c-8a9f-49ad12878ef2"
      },
      "execution_count": 48,
      "outputs": [
        {
          "output_type": "stream",
          "name": "stdout",
          "text": [
            "469/469 [==============================] - 5s 11ms/step - loss: 3.1369 - accuracy: 0.7549\n",
            "loss: 0.638\n",
            "accuracy: 0.753\n"
          ]
        }
      ]
    },
    {
      "cell_type": "markdown",
      "source": [
        "## Write a comparison between each model and give reasons for the difference in results"
      ],
      "metadata": {
        "id": "4isak7YhT9Fp"
      }
    },
    {
      "cell_type": "code",
      "source": [
        "fig, axs = plt.subplots(2, 3, figsize=(18,10))\n",
        "fig.suptitle('Comparison of each model')\n",
        "\n",
        "axs[0, 0].set_title('Model Accuracy before Hyperparameter tuning')\n",
        "axs[0, 0].plot(history.history['accuracy'])\n",
        "axs[0, 0].plot(history.history['val_accuracy'])\n",
        "axs[0, 0].legend(['train', 'test'], loc='lower right')\n",
        "axs[0, 0].set(ylabel='accuracy')\n",
        "axs[0, 0].set(xlabel='epoch')\n",
        "\n",
        "axs[0, 1].set_title('Model Accuracy without Regularization')\n",
        "axs[0, 1].plot(history_1.history['accuracy'])\n",
        "axs[0, 1].plot(history_1.history['val_accuracy'])\n",
        "axs[0, 1].legend(['train', 'test'], loc='lower right')\n",
        "axs[0, 1].set(ylabel='accuracy')\n",
        "axs[0, 1].set(xlabel='epoch')\n",
        "\n",
        "axs[0, 2].set_title('Model Accuracy changing Dropout')\n",
        "axs[0, 2].plot(history_2.history['accuracy'])\n",
        "axs[0, 2].plot(history_2.history['val_accuracy'])\n",
        "axs[0, 2].legend(['train', 'test'], loc='lower right')\n",
        "axs[0, 2].set(ylabel='accuracy')\n",
        "axs[0, 2].set(xlabel='epoch')\n",
        "\n",
        "\n",
        "axs[1, 0].set_title('Model Loss before Hyperparameter tuning')\n",
        "axs[1, 0].plot(history.history['loss'])\n",
        "axs[1, 0].plot(history.history['val_loss'])\n",
        "axs[1, 0].legend(['train', 'test'], loc='upper right')\n",
        "axs[1, 0].set(ylabel='loss')\n",
        "axs[1, 0].set(xlabel='epoch')\n",
        "\n",
        "axs[1, 1].set_title('Model Loss without Regularization')\n",
        "axs[1, 1].plot(history_1.history['loss'])\n",
        "axs[1, 1].plot(history_1.history['val_loss'])\n",
        "axs[1, 1].legend(['train', 'test'], loc='upper right')\n",
        "axs[1, 1].set(ylabel='loss')\n",
        "axs[1, 1].set(xlabel='epoch')\n",
        "\n",
        "axs[1, 2].set_title('Model Loss changing Dropout')\n",
        "axs[1, 2].plot(history_2.history['loss'])\n",
        "axs[1, 2].plot(history_2.history['val_loss'])\n",
        "axs[1, 2].legend(['train', 'test'], loc='upper right')\n",
        "axs[1, 2].set(ylabel='loss')\n",
        "axs[1, 2].set(xlabel='epoch')\n",
        "\n",
        "\n",
        "plt.subplots_adjust(left=0.1,\n",
        "                    bottom=0.1, \n",
        "                    right=0.9, \n",
        "                    top=0.9, \n",
        "                    wspace=0.4, \n",
        "                    hspace=0.4)"
      ],
      "metadata": {
        "id": "phreSfBekpSz",
        "colab": {
          "base_uri": "https://localhost:8080/",
          "height": 695
        },
        "outputId": "b7acfe26-e39a-4d9f-ed13-ebd8f6996c5c"
      },
      "execution_count": 49,
      "outputs": [
        {
          "output_type": "display_data",
          "data": {
            "text/plain": [
              "<Figure size 1296x720 with 6 Axes>"
            ],
            "image/png": "[encoded data removed]"
          },
          "metadata": {
            "needs_background": "light"
          }
        }
      ]
    },
    {
      "cell_type": "markdown",
      "source": [
        "# Reasons:\n",
        "\n",
        "\n",
        "*   As seen in the model before hyperparameter tuning, it is observed that both the train and test accuracy increase exponentially after few epochs and the losses are reducing drastically after few epochs.\n",
        "*   But whereas in the model without regularization, though the test accuracy is starting at higher point it gets saturated after a few epochs and loss remains considerably high even after multiple epochs.\n",
        "*   Though after changing the dropout the accuracy remains the losses reduces drastically after few epochs in the third model and with increase in more epochs they may diverge further.\n",
        "\n"
      ],
      "metadata": {
        "id": "-6UFjsCte6JN"
      }
    }
  ],
  "metadata": {
    "colab": {
      "collapsed_sections": [],
      "name": "DL_assignment_Q1.ipynb",
      "provenance": []
    },
    "kernelspec": {
      "display_name": "Python 3",
      "name": "python3"
    },
    "language_info": {
      "name": "python"
    },
    "accelerator": "GPU"
  },
  "nbformat": 4,
  "nbformat_minor": 0
}